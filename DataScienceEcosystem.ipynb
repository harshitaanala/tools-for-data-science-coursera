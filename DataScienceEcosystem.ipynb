{
 "cells": [
  {
   "cell_type": "markdown",
   "id": "4e74ef23",
   "metadata": {},
   "source": [
    "# Data Science Tools and Ecosystem"
   ]
  },
  {
   "cell_type": "markdown",
   "id": "4c6c52d5",
   "metadata": {},
   "source": [
    "In this notebook, Data Science Tools and Ecosystem are summarized."
   ]
  },
  {
   "cell_type": "markdown",
   "id": "63f836d5",
   "metadata": {},
   "source": [
    "Some of the popular languages that Data Scientists use are: \n",
    "1. Python\n",
    "2. R\n",
    "3. SQL"
   ]
  },
  {
   "cell_type": "markdown",
   "id": "f6e503da",
   "metadata": {},
   "source": [
    "<b>Objectives</b>\n",
    "- List the popular langiages for data science\n",
    "- tools used in Data Science\n",
    "- libraries for data science"
   ]
  },
  {
   "cell_type": "markdown",
   "id": "08daa7f1",
   "metadata": {},
   "source": [
    "Some of the commonly used libraries used by Data Scientists include:\n",
    "1. Matplotlib\n",
    "2. Pandas\n",
    "3. Numpy\n",
    "4. Seaborn"
   ]
  },
  {
   "cell_type": "markdown",
   "id": "e79166e2",
   "metadata": {},
   "source": [
    "|Data Science Tools|\n",
    "|------------------|\n",
    "| Jupyter notebook |\n",
    "|    RStudio       |\n",
    "|  Jupyter Lab     |"
   ]
  },
  {
   "cell_type": "code",
   "execution_count": 4,
   "id": "52b5260b",
   "metadata": {},
   "outputs": [
    {
     "name": "stdout",
     "output_type": "stream",
     "text": [
      "17\n"
     ]
    }
   ],
   "source": [
    "'''This a simple arithmetic expression to mutiply then add integers'''\n",
    "print((3*4)+5)"
   ]
  },
  {
   "cell_type": "code",
   "execution_count": 3,
   "id": "953bdc9f",
   "metadata": {},
   "outputs": [
    {
     "name": "stdout",
     "output_type": "stream",
     "text": [
      "3.34\n"
     ]
    }
   ],
   "source": [
    "'''This will convert 200 minutes to hours by diving by 60'''\n",
    "def min_into_hours(min):\n",
    "    return min*0.0167\n",
    "r=min_into_hours(200)\n",
    "print(r)"
   ]
  },
  {
   "cell_type": "markdown",
   "id": "a1e31e23",
   "metadata": {},
   "source": [
    "<h2>Author</h2> Harshita"
   ]
  },
  {
   "cell_type": "code",
   "execution_count": null,
   "id": "6830ce06",
   "metadata": {},
   "outputs": [],
   "source": []
  }
 ],
 "metadata": {
  "kernelspec": {
   "display_name": "Python 3 (ipykernel)",
   "language": "python",
   "name": "python3"
  },
  "language_info": {
   "codemirror_mode": {
    "name": "ipython",
    "version": 3
   },
   "file_extension": ".py",
   "mimetype": "text/x-python",
   "name": "python",
   "nbconvert_exporter": "python",
   "pygments_lexer": "ipython3",
   "version": "3.10.6"
  }
 },
 "nbformat": 4,
 "nbformat_minor": 5
}
